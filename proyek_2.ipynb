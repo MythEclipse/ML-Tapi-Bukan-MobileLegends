{
  "nbformat": 4,
  "nbformat_minor": 0,
  "metadata": {
    "colab": {
      "provenance": [],
      "mount_file_id": "1d8uEcN3i2YfZBuPY0tWCaCiau4wRL4mE",
      "authorship_tag": "ABX9TyPqZkL/UBZMVuH+GAtlBJ7X",
      "include_colab_link": true
    },
    "kernelspec": {
      "name": "python3",
      "display_name": "Python 3"
    },
    "language_info": {
      "name": "python"
    }
  },
  "cells": [
    {
      "cell_type": "markdown",
      "metadata": {
        "id": "view-in-github",
        "colab_type": "text"
      },
      "source": [
        "<a href=\"https://colab.research.google.com/github/MythEclipse/Belajar-MachineLearning/blob/main/proyek_2.ipynb\" target=\"_parent\"><img src=\"https://colab.research.google.com/assets/colab-badge.svg\" alt=\"Open In Colab\"/></a>"
      ]
    },
    {
      "cell_type": "code",
      "execution_count": null,
      "metadata": {
        "id": "PbOQUH1qonkU"
      },
      "outputs": [],
      "source": [
        "import os\n",
        "os.environ['KAGGLE_CONFIG_DIR'] = \"/content/drive/MyDrive/Kaggle\""
      ]
    },
    {
      "cell_type": "code",
      "source": [
        "!kaggle datasets download -d lorenzovzquez/data-jobs-salaries"
      ],
      "metadata": {
        "colab": {
          "base_uri": "https://localhost:8080/"
        },
        "id": "aVR7HDH9qfc8",
        "outputId": "275a95ff-e5c6-4476-8722-f3b4686f828d"
      },
      "execution_count": null,
      "outputs": [
        {
          "output_type": "stream",
          "name": "stdout",
          "text": [
            "Downloading data-jobs-salaries.zip to /content\n",
            "\r  0% 0.00/66.5k [00:00<?, ?B/s]\n",
            "\r100% 66.5k/66.5k [00:00<00:00, 45.2MB/s]\n"
          ]
        }
      ]
    },
    {
      "cell_type": "code",
      "source": [
        "!unzip data-jobs-salaries.zip"
      ],
      "metadata": {
        "colab": {
          "base_uri": "https://localhost:8080/"
        },
        "id": "eosBhc3fqqIT",
        "outputId": "86b1ee53-6547-4b49-e9dd-4a9f592df5af"
      },
      "execution_count": null,
      "outputs": [
        {
          "output_type": "stream",
          "name": "stdout",
          "text": [
            "Archive:  data-jobs-salaries.zip\n",
            "  inflating: salaries.csv            \n"
          ]
        }
      ]
    },
    {
      "cell_type": "code",
      "source": [
        "import tensorflow as tf\n",
        "import urllib.request\n",
        "import zipfile\n",
        "import re\n",
        "import os\n",
        "from tensorflow.keras.utils import get_file\n",
        "import pandas as pd\n",
        "import numpy as np\n",
        "import matplotlib.pyplot as plt\n",
        "from sklearn.model_selection import train_test_split\n",
        "from sklearn.preprocessing import LabelEncoder,MinMaxScaler\n",
        "from sklearn.metrics import mean_absolute_error\n",
        "from tensorflow.keras.layers import Bidirectional,Dropout\n",
        "from tensorflow.keras.regularizers import l2\n",
        "from tensorflow.keras.models import Sequential\n",
        "from tensorflow.keras.layers import Embedding, LSTM, Dense,GRU,GlobalMaxPooling1D,BatchNormalization\n",
        "from tensorflow.keras.preprocessing.text import Tokenizer\n",
        "from tensorflow.keras.preprocessing.sequence import pad_sequences\n",
        "from tensorflow.keras.optimizers import Adam,RMSprop,SGD\n",
        "from tensorflow.keras.callbacks import ReduceLROnPlateau,EarlyStopping"
      ],
      "metadata": {
        "id": "PXHXhsFHq5tz"
      },
      "execution_count": null,
      "outputs": []
    },
    {
      "cell_type": "code",
      "source": [
        "df = pd.read_csv('salaries.csv')"
      ],
      "metadata": {
        "id": "wNfSaRcKrCD7"
      },
      "execution_count": null,
      "outputs": []
    },
    {
      "cell_type": "code",
      "source": [
        "print(df.info())\n",
        "print(df.head())\n",
        "print(df.tail())"
      ],
      "metadata": {
        "colab": {
          "base_uri": "https://localhost:8080/"
        },
        "id": "2icTD66VrKPr",
        "outputId": "3ef9879a-6243-4890-be45-5c11c5ad7567"
      },
      "execution_count": null,
      "outputs": [
        {
          "output_type": "stream",
          "name": "stdout",
          "text": [
            "<class 'pandas.core.frame.DataFrame'>\n",
            "RangeIndex: 10417 entries, 0 to 10416\n",
            "Data columns (total 11 columns):\n",
            " #   Column              Non-Null Count  Dtype \n",
            "---  ------              --------------  ----- \n",
            " 0   work_year           10417 non-null  int64 \n",
            " 1   experience_level    10417 non-null  object\n",
            " 2   employment_type     10417 non-null  object\n",
            " 3   job_title           10417 non-null  object\n",
            " 4   salary              10417 non-null  int64 \n",
            " 5   salary_currency     10417 non-null  object\n",
            " 6   salary_in_usd       10417 non-null  int64 \n",
            " 7   employee_residence  10417 non-null  object\n",
            " 8   remote_ratio        10417 non-null  int64 \n",
            " 9   company_location    10417 non-null  object\n",
            " 10  company_size        10417 non-null  object\n",
            "dtypes: int64(4), object(7)\n",
            "memory usage: 895.3+ KB\n",
            "None\n",
            "   work_year experience_level employment_type                  job_title  \\\n",
            "0       2023               SE              FT            Prompt Engineer   \n",
            "1       2023               SE              FT            Prompt Engineer   \n",
            "2       2023               SE              FT  Machine Learning Engineer   \n",
            "3       2023               SE              FT  Machine Learning Engineer   \n",
            "4       2023               EN              FT             Data Scientist   \n",
            "\n",
            "   salary salary_currency  salary_in_usd employee_residence  remote_ratio  \\\n",
            "0  184000             USD         184000                 US             0   \n",
            "1  112000             USD         112000                 US             0   \n",
            "2  275000             USD         275000                 US             0   \n",
            "3  170000             USD         170000                 US             0   \n",
            "4  100000             USD         100000                 US             0   \n",
            "\n",
            "  company_location company_size  \n",
            "0               US            M  \n",
            "1               US            M  \n",
            "2               US            M  \n",
            "3               US            M  \n",
            "4               US            M  \n",
            "       work_year experience_level employment_type                 job_title  \\\n",
            "10412       2020               SE              FT            Data Scientist   \n",
            "10413       2021               MI              FT  Principal Data Scientist   \n",
            "10414       2020               EN              FT            Data Scientist   \n",
            "10415       2020               EN              CT     Business Data Analyst   \n",
            "10416       2021               SE              FT      Data Science Manager   \n",
            "\n",
            "        salary salary_currency  salary_in_usd employee_residence  \\\n",
            "10412   412000             USD         412000                 US   \n",
            "10413   151000             USD         151000                 US   \n",
            "10414   105000             USD         105000                 US   \n",
            "10415   100000             USD         100000                 US   \n",
            "10416  7000000             INR          94665                 IN   \n",
            "\n",
            "       remote_ratio company_location company_size  \n",
            "10412           100               US            L  \n",
            "10413           100               US            L  \n",
            "10414           100               US            S  \n",
            "10415           100               US            L  \n",
            "10416            50               IN            L  \n"
          ]
        }
      ]
    },
    {
      "cell_type": "code",
      "source": [
        "time_series_data = df[['work_year', 'salary_in_usd']]"
      ],
      "metadata": {
        "id": "2FVm0bCDszIa"
      },
      "execution_count": null,
      "outputs": []
    },
    {
      "cell_type": "code",
      "source": [
        "scaler = MinMaxScaler()\n",
        "time_series_data = time_series_data.copy()\n",
        "time_series_data.loc[:, 'scaled_salary'] = scaler.fit_transform(time_series_data['salary_in_usd'].values.reshape(-1, 1))\n"
      ],
      "metadata": {
        "id": "d4845vjt4k1J"
      },
      "execution_count": null,
      "outputs": []
    },
    {
      "cell_type": "code",
      "source": [
        "sequence_length = 10\n",
        "sequences = []\n",
        "for i in range(len(time_series_data) - sequence_length):\n",
        "    sequence = time_series_data['scaled_salary'].values[i:i+sequence_length]\n",
        "    target = time_series_data['scaled_salary'].values[i+sequence_length]\n",
        "    sequences.append((sequence, target))\n"
      ],
      "metadata": {
        "id": "nAryjz9y5KlU"
      },
      "execution_count": null,
      "outputs": []
    },
    {
      "cell_type": "code",
      "source": [
        "X = np.array([sequence for sequence, _ in sequences])\n",
        "y = np.array([target for _, target in sequences])"
      ],
      "metadata": {
        "id": "i1S4TeEQ5PkO"
      },
      "execution_count": null,
      "outputs": []
    },
    {
      "cell_type": "code",
      "source": [
        "X_train, X_val, y_train, y_val = train_test_split(X, y, test_size=0.2, shuffle=False)"
      ],
      "metadata": {
        "id": "vk2uH-OQs5Ob"
      },
      "execution_count": null,
      "outputs": []
    },
    {
      "cell_type": "code",
      "source": [
        "X_train_reshaped = X_train.reshape((X_train.shape[0], X_train.shape[1], 1))\n",
        "X_val_reshaped = X_val.reshape((X_val.shape[0], X_val.shape[1], 1))"
      ],
      "metadata": {
        "id": "ustfC_zc5Yso"
      },
      "execution_count": null,
      "outputs": []
    },
    {
      "cell_type": "code",
      "source": [
        "model = Sequential()\n",
        "model.add(LSTM(units=100, input_shape=(X_train_reshaped.shape[1], X_train_reshaped.shape[2])))\n",
        "model.add(Dropout(0.3))\n",
        "model.add(Dense(units=1))\n",
        "\n",
        "optimizer = Adam(learning_rate=0.001)\n",
        "model.compile(optimizer=optimizer, loss='mean_squared_error', metrics=['mae'])"
      ],
      "metadata": {
        "id": "vTJncEQitNqr"
      },
      "execution_count": null,
      "outputs": []
    },
    {
      "cell_type": "code",
      "source": [
        "callbacks = EarlyStopping(monitor='val_mae', patience=5, mode='min', min_delta=0.1)"
      ],
      "metadata": {
        "id": "mo_L66byv46M"
      },
      "execution_count": null,
      "outputs": []
    },
    {
      "cell_type": "code",
      "source": [
        "history=model.fit(X_train_reshaped, y_train, epochs=10, batch_size=32, validation_data=(X_val_reshaped, y_val),callbacks=[callbacks])"
      ],
      "metadata": {
        "colab": {
          "base_uri": "https://localhost:8080/"
        },
        "id": "hYxpsFLntV09",
        "outputId": "e23e108a-db54-4525-b149-75905562515d"
      },
      "execution_count": null,
      "outputs": [
        {
          "output_type": "stream",
          "name": "stdout",
          "text": [
            "Epoch 1/10\n",
            "261/261 [==============================] - 7s 18ms/step - loss: 0.0087 - mae: 0.0718 - val_loss: 0.0067 - val_mae: 0.0651\n",
            "Epoch 2/10\n",
            "261/261 [==============================] - 4s 17ms/step - loss: 0.0081 - mae: 0.0693 - val_loss: 0.0068 - val_mae: 0.0657\n",
            "Epoch 3/10\n",
            "261/261 [==============================] - 4s 14ms/step - loss: 0.0080 - mae: 0.0692 - val_loss: 0.0066 - val_mae: 0.0646\n",
            "Epoch 4/10\n",
            "261/261 [==============================] - 3s 12ms/step - loss: 0.0080 - mae: 0.0688 - val_loss: 0.0071 - val_mae: 0.0680\n",
            "Epoch 5/10\n",
            "261/261 [==============================] - 3s 11ms/step - loss: 0.0079 - mae: 0.0686 - val_loss: 0.0070 - val_mae: 0.0675\n",
            "Epoch 6/10\n",
            "261/261 [==============================] - 3s 13ms/step - loss: 0.0079 - mae: 0.0687 - val_loss: 0.0066 - val_mae: 0.0641\n"
          ]
        }
      ]
    },
    {
      "cell_type": "code",
      "source": [
        "y_val_pred = model.predict(X_val_reshaped)"
      ],
      "metadata": {
        "colab": {
          "base_uri": "https://localhost:8080/"
        },
        "id": "KoMEpSNItYnh",
        "outputId": "8f4423b4-6ab2-493f-8f20-4cfa0de642a2"
      },
      "execution_count": null,
      "outputs": [
        {
          "output_type": "stream",
          "name": "stdout",
          "text": [
            "66/66 [==============================] - 1s 4ms/step\n"
          ]
        }
      ]
    },
    {
      "cell_type": "code",
      "source": [
        "mae = mean_absolute_error(y_val, y_val_pred)"
      ],
      "metadata": {
        "id": "2ySq8M37tcbK"
      },
      "execution_count": null,
      "outputs": []
    },
    {
      "cell_type": "code",
      "source": [
        "print(\"Training MAE:\", history.history['mae'])\n",
        "print(\"Validation MAE:\", history.history['val_mae'])"
      ],
      "metadata": {
        "colab": {
          "base_uri": "https://localhost:8080/"
        },
        "id": "3iGtSCcqvBSk",
        "outputId": "96107c5e-1a97-4df3-bcf5-2db40da860d7"
      },
      "execution_count": null,
      "outputs": [
        {
          "output_type": "stream",
          "name": "stdout",
          "text": [
            "Training MAE: [0.07183659821748734, 0.0692858025431633, 0.06915853172540665, 0.06882474571466446, 0.06855069100856781, 0.0686761736869812]\n",
            "Validation MAE: [0.06511033326387405, 0.06572798639535904, 0.06456683576107025, 0.0680491030216217, 0.0674966350197792, 0.06411073356866837]\n"
          ]
        }
      ]
    },
    {
      "cell_type": "code",
      "source": [
        "if history.history['val_mae'][-1] < 0.1:\n",
        "    print(\"berhasil\")\n",
        "else:\n",
        "    print(\"gagal\")"
      ],
      "metadata": {
        "colab": {
          "base_uri": "https://localhost:8080/"
        },
        "id": "3nFw3j9etfWz",
        "outputId": "27ab4d24-33c9-4d23-f8ff-689a3b4eacbf"
      },
      "execution_count": null,
      "outputs": [
        {
          "output_type": "stream",
          "name": "stdout",
          "text": [
            "berhasil\n"
          ]
        }
      ]
    }
  ]
}